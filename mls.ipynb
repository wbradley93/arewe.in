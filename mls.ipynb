{
 "cells": [
  {
   "cell_type": "code",
   "execution_count": 1,
   "metadata": {},
   "outputs": [],
   "source": [
    "from classes.season import MLSSeason\n",
    "from classes.team import MLSTeam\n",
    "from classes.game import MLSGame\n",
    "from utils.standings_formatter import print_standings\n",
    "import datetime, requests"
   ]
  },
  {
   "cell_type": "code",
   "execution_count": 3,
   "metadata": {},
   "outputs": [],
   "source": [
    "teams_url = f\"https://sportapi.mlssoccer.com/api/standings/live?isLive=true&seasonId={year}&competitionId=98\"\n",
    "games_url = f\"https://sportapi.mlssoccer.com/api/matches?culture=en-us&dateFrom={year}-01-01&dateTo={year}-12-02&competition=98&matchType=Regular&excludeSecondaryTeams=true\""
   ]
  },
  {
   "cell_type": "code",
   "execution_count": 4,
   "metadata": {},
   "outputs": [],
   "source": [
    "mls = MLSSeason(2023)"
   ]
  },
  {
   "cell_type": "code",
   "execution_count": 5,
   "metadata": {},
   "outputs": [],
   "source": [
    "teams = requests.get(teams_url).json()\n",
    "\n",
    "for team in teams:\n",
    "    mls.add_team(team['club']['fullName'], team['club']['shortName'], team['group_id']+\"ern\", team['club']['optaId'])"
   ]
  },
  {
   "cell_type": "code",
   "execution_count": 6,
   "metadata": {},
   "outputs": [],
   "source": [
    "games = requests.get(games_url).json()\n",
    "\n",
    "for game in games:\n",
    "    match_url = f\"https://stats-api.mlssoccer.com/v1/clubs/matches?=&match_game_id={game['optaId']}&include=club&include=match\"\n",
    "    match_details = requests.get(match_url).json()\n",
    "\n",
    "    if match_details[0]['side'] == \"home\":\n",
    "        home_score = match_details[0]['score']\n",
    "        away_score = match_details[1]['score']\n",
    "    else:\n",
    "        home_score = match_details[1]['score']\n",
    "        away_score = match_details[0]['score']\n",
    "\n",
    "    mls.add_game(game['optaId'], game['home']['optaId'], game['away']['optaId'], datetime.datetime.fromisoformat(game['matchDate']), \n",
    "                 match_details[0]['match']['period'], home_score, away_score)"
   ]
  },
  {
   "cell_type": "code",
   "execution_count": 7,
   "metadata": {},
   "outputs": [],
   "source": [
    "mls.update_official_stats()"
   ]
  },
  {
   "cell_type": "code",
   "execution_count": 8,
   "metadata": {},
   "outputs": [
    {
     "name": "stdout",
     "output_type": "stream",
     "text": [
      "Western\n",
      "+---------------------------+--------+-------+----+----+----+----+----+----+-----+\n",
      "|           Club            | Points |  PPG  | GP | W  | L  | T  | GF | GA | GD  |\n",
      "+===========================+========+=======+====+====+====+====+====+====+=====+\n",
      "|     St. Louis CITY SC     |   56   | 1.700 | 33 | 17 | 11 | 5  | 62 | 43 | 19  |\n",
      "+---------------------------+--------+-------+----+----+----+----+----+----+-----+\n",
      "| Los Angeles Football Club |   51   | 1.550 | 33 | 14 | 10 | 9  | 53 | 38 | 15  |\n",
      "+---------------------------+--------+-------+----+----+----+----+----+----+-----+\n",
      "|    Seattle Sounders FC    |   50   | 1.520 | 33 | 13 | 9  | 11 | 39 | 32 |  7  |\n",
      "+---------------------------+--------+-------+----+----+----+----+----+----+-----+\n",
      "|     Houston Dynamo FC     |   48   | 1.450 | 33 | 13 | 11 | 9  | 48 | 37 | 11  |\n",
      "+---------------------------+--------+-------+----+----+----+----+----+----+-----+\n",
      "|      Real Salt Lake       |   47   | 1.420 | 33 | 13 | 12 | 8  | 47 | 50 | -3  |\n",
      "+---------------------------+--------+-------+----+----+----+----+----+----+-----+\n",
      "|  Vancouver Whitecaps FC   |   47   | 1.420 | 33 | 12 | 10 | 11 | 54 | 47 |  7  |\n",
      "+---------------------------+--------+-------+----+----+----+----+----+----+-----+\n",
      "|     Portland Timbers      |   43   | 1.300 | 33 | 11 | 12 | 10 | 45 | 55 | -10 |\n",
      "+---------------------------+--------+-------+----+----+----+----+----+----+-----+\n",
      "|         FC Dallas         |   43   | 1.300 | 33 | 10 | 10 | 13 | 37 | 36 |  1  |\n",
      "+---------------------------+--------+-------+----+----+----+----+----+----+-----+\n",
      "|   San Jose Earthquakes    |   43   | 1.300 | 33 | 10 | 10 | 13 | 38 | 42 | -4  |\n",
      "+---------------------------+--------+-------+----+----+----+----+----+----+-----+\n",
      "|   Sporting Kansas City    |   41   | 1.240 | 33 | 11 | 14 | 8  | 45 | 50 | -5  |\n",
      "+---------------------------+--------+-------+----+----+----+----+----+----+-----+\n",
      "|     Minnesota United      |   41   | 1.240 | 33 | 10 | 12 | 11 | 45 | 48 | -3  |\n",
      "+---------------------------+--------+-------+----+----+----+----+----+----+-----+\n",
      "|         Austin FC         |   38   | 1.150 | 33 | 10 | 15 | 8  | 48 | 54 | -6  |\n",
      "+---------------------------+--------+-------+----+----+----+----+----+----+-----+\n",
      "|         LA Galaxy         |   36   | 1.090 | 33 | 8  | 13 | 12 | 50 | 63 | -13 |\n",
      "+---------------------------+--------+-------+----+----+----+----+----+----+-----+\n",
      "|      Colorado Rapids      |   27   | 0.820 | 33 | 5  | 16 | 12 | 26 | 53 | -27 |\n",
      "+---------------------------+--------+-------+----+----+----+----+----+----+-----+\n"
     ]
    }
   ],
   "source": [
    "print(\"Western\")\n",
    "print_standings(mls.get_standings_header(True), [t.standings_line() for t in mls.standings(conference=\"Western\")])"
   ]
  },
  {
   "cell_type": "code",
   "execution_count": 9,
   "metadata": {},
   "outputs": [
    {
     "name": "stdout",
     "output_type": "stream",
     "text": [
      "Eastern\n",
      "+------------------------+--------+-------+----+----+----+----+----+----+-----+\n",
      "|          Club          | Points |  PPG  | GP | W  | L  | T  | GF | GA | GD  |\n",
      "+========================+========+=======+====+====+====+====+====+====+=====+\n",
      "|     FC Cincinnati      |   68   | 2.060 | 33 | 20 | 5  | 8  | 55 | 37 | 18  |\n",
      "+------------------------+--------+-------+----+----+----+----+----+----+-----+\n",
      "|      Orlando City      |   60   | 1.820 | 33 | 17 | 7  | 9  | 53 | 39 | 14  |\n",
      "+------------------------+--------+-------+----+----+----+----+----+----+-----+\n",
      "|   Philadelphia Union   |   55   | 1.670 | 33 | 15 | 8  | 10 | 56 | 39 | 17  |\n",
      "+------------------------+--------+-------+----+----+----+----+----+----+-----+\n",
      "|     Columbus Crew      |   54   | 1.640 | 33 | 15 | 9  | 9  | 65 | 45 | 20  |\n",
      "+------------------------+--------+-------+----+----+----+----+----+----+-----+\n",
      "| New England Revolution |   52   | 1.580 | 33 | 14 | 9  | 10 | 56 | 45 | 11  |\n",
      "+------------------------+--------+-------+----+----+----+----+----+----+-----+\n",
      "|     Atlanta United     |   50   | 1.520 | 33 | 13 | 9  | 11 | 64 | 51 | 13  |\n",
      "+------------------------+--------+-------+----+----+----+----+----+----+-----+\n",
      "|      Nashville SC      |   49   | 1.480 | 33 | 13 | 10 | 10 | 39 | 31 |  8  |\n",
      "+------------------------+--------+-------+----+----+----+----+----+----+-----+\n",
      "|      CF Montréal       |   41   | 1.240 | 33 | 12 | 16 | 5  | 35 | 50 | -15 |\n",
      "+------------------------+--------+-------+----+----+----+----+----+----+-----+\n",
      "|      D.C. United       |   40   | 1.180 | 34 | 10 | 14 | 10 | 45 | 49 | -4  |\n",
      "+------------------------+--------+-------+----+----+----+----+----+----+-----+\n",
      "|   New York Red Bulls   |   40   | 1.210 | 33 | 10 | 13 | 10 | 35 | 39 | -4  |\n",
      "+------------------------+--------+-------+----+----+----+----+----+----+-----+\n",
      "|    Chicago Fire FC     |   40   | 1.210 | 33 | 10 | 13 | 10 | 39 | 50 | -11 |\n",
      "+------------------------+--------+-------+----+----+----+----+----+----+-----+\n",
      "|      Charlotte FC      |   39   | 1.220 | 32 | 9  | 11 | 12 | 42 | 50 | -8  |\n",
      "+------------------------+--------+-------+----+----+----+----+----+----+-----+\n",
      "|    New York City FC    |   38   | 1.150 | 33 | 8  | 11 | 14 | 34 | 39 | -5  |\n",
      "+------------------------+--------+-------+----+----+----+----+----+----+-----+\n",
      "|     Inter Miami CF     |   33   | 1.030 | 32 | 9  | 17 | 6  | 39 | 51 | -12 |\n",
      "+------------------------+--------+-------+----+----+----+----+----+----+-----+\n",
      "|       Toronto FC       |   22   | 0.670 | 33 | 4  | 19 | 10 | 26 | 57 | -31 |\n",
      "+------------------------+--------+-------+----+----+----+----+----+----+-----+\n"
     ]
    }
   ],
   "source": [
    "print(\"Eastern\")\n",
    "print_standings(mls.get_standings_header(True), [t.standings_line() for t in mls.standings(conference=\"Eastern\")])"
   ]
  }
 ],
 "metadata": {
  "kernelspec": {
   "display_name": "Python 3",
   "language": "python",
   "name": "python3"
  },
  "language_info": {
   "codemirror_mode": {
    "name": "ipython",
    "version": 3
   },
   "file_extension": ".py",
   "mimetype": "text/x-python",
   "name": "python",
   "nbconvert_exporter": "python",
   "pygments_lexer": "ipython3",
   "version": "3.11.6"
  }
 },
 "nbformat": 4,
 "nbformat_minor": 2
}
